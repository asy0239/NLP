{
 "cells": [
  {
   "cell_type": "code",
   "execution_count": 8,
   "metadata": {},
   "outputs": [],
   "source": [
    "from konlpy.corpus import kobill"
   ]
  },
  {
   "cell_type": "code",
   "execution_count": 9,
   "metadata": {},
   "outputs": [],
   "source": [
    "files_ko = kobill.fileids()  ## read document , kobill 은 국회법안 말뭉치\n",
    "doc_ko = kobill.open('1809890.txt').read()"
   ]
  },
  {
   "cell_type": "code",
   "execution_count": 10,
   "metadata": {},
   "outputs": [],
   "source": [
    "from konlpy.tag import *  ## 형태소 분석, 태깅 라이브러리 추가로 hannanum, kkma, komoran, mecab, open korean text 등이 있다\n",
    "okt = Okt()\n",
    "hannanum = Hannanum()\n",
    "kkma = Kkma()\n",
    "komoran = Komoran()\n",
    "# mecab = Mecab() mecab은 윈도우에서 지원하지 않는다\n",
    "tokens_ko = okt.morphs(doc_ko)   ## tokenize"
   ]
  },
  {
   "cell_type": "code",
   "execution_count": 11,
   "metadata": {},
   "outputs": [
    {
     "data": {
      "text/plain": [
       "['지방공무원법',\n",
       " '일부개정법률안',\n",
       " '정의화의원',\n",
       " '대표발',\n",
       " '의',\n",
       " '번',\n",
       " '9890',\n",
       " '발의연월일',\n",
       " '2010',\n",
       " '11',\n",
       " '12',\n",
       " '발',\n",
       " '의',\n",
       " '정의화․이명수․김을동']"
      ]
     },
     "execution_count": 11,
     "metadata": {},
     "output_type": "execute_result"
    }
   ],
   "source": [
    "hannanum.nouns(doc_ko[:100])"
   ]
  },
  {
   "cell_type": "code",
   "execution_count": 17,
   "metadata": {},
   "outputs": [
    {
     "data": {
      "text/plain": [
       "['지방',\n",
       " '지방공무원법',\n",
       " '공무원',\n",
       " '법',\n",
       " '일부',\n",
       " '일부개정법률안',\n",
       " '개정',\n",
       " '법률안',\n",
       " '정의',\n",
       " '정의화의원',\n",
       " '화',\n",
       " '의원',\n",
       " '대표',\n",
       " '대표발의',\n",
       " '발의',\n",
       " '의',\n",
       " '안',\n",
       " '호',\n",
       " '9890',\n",
       " '발',\n",
       " '연월일',\n",
       " '2010',\n",
       " '11',\n",
       " '12',\n",
       " '자',\n",
       " '정의화',\n",
       " '이명수',\n",
       " '김',\n",
       " '동',\n",
       " '이']"
      ]
     },
     "execution_count": 17,
     "metadata": {},
     "output_type": "execute_result"
    }
   ],
   "source": [
    "kkma.nouns(doc_ko[:100])"
   ]
  },
  {
   "cell_type": "code",
   "execution_count": 15,
   "metadata": {},
   "outputs": [
    {
     "data": {
      "text/plain": [
       "['지방공무원법',\n",
       " '일부',\n",
       " '개정',\n",
       " '법률',\n",
       " '안',\n",
       " '정의화',\n",
       " '의원',\n",
       " '대표',\n",
       " '발의',\n",
       " '의',\n",
       " '안',\n",
       " '번',\n",
       " '호',\n",
       " '발의',\n",
       " '연월일',\n",
       " '발',\n",
       " '의',\n",
       " '자',\n",
       " '정의화',\n",
       " '이명수',\n",
       " '김을동',\n",
       " '이']"
      ]
     },
     "execution_count": 15,
     "metadata": {},
     "output_type": "execute_result"
    }
   ],
   "source": [
    "okt.nouns(doc_ko[:100])"
   ]
  },
  {
   "cell_type": "code",
   "execution_count": 16,
   "metadata": {},
   "outputs": [
    {
     "data": {
      "text/plain": [
       "['지방',\n",
       " '공무원법',\n",
       " '일부',\n",
       " '개정',\n",
       " '법률',\n",
       " '안',\n",
       " '정의화',\n",
       " '의원',\n",
       " '대표',\n",
       " '발',\n",
       " '의',\n",
       " '번',\n",
       " '호',\n",
       " '발의',\n",
       " '연월일',\n",
       " '발',\n",
       " '의',\n",
       " '자',\n",
       " '정의화',\n",
       " '이명수',\n",
       " '김을동']"
      ]
     },
     "execution_count": 16,
     "metadata": {},
     "output_type": "execute_result"
    }
   ],
   "source": [
    "komoran.nouns(doc_ko[:100])"
   ]
  },
  {
   "cell_type": "markdown",
   "metadata": {},
   "source": [
    "- komoran , okt 의 nouns 는 숫자를 아예 제거하는 듯하다."
   ]
  },
  {
   "cell_type": "code",
   "execution_count": 28,
   "metadata": {},
   "outputs": [
    {
     "data": {
      "text/plain": [
       "['지방공무원법',\n",
       " '일부',\n",
       " '개정',\n",
       " '법률',\n",
       " '안',\n",
       " '\\n\\n',\n",
       " '(',\n",
       " '정의화',\n",
       " '의원',\n",
       " '대표',\n",
       " '발의',\n",
       " ')',\n",
       " '\\n\\n ',\n",
       " '의',\n",
       " '안',\n",
       " '\\n ',\n",
       " '번',\n",
       " '호',\n",
       " '\\n\\n',\n",
       " '9890',\n",
       " '\\n\\n',\n",
       " '발의',\n",
       " '연월일',\n",
       " ':',\n",
       " '2010',\n",
       " '.',\n",
       " '11',\n",
       " '.',\n",
       " '12',\n",
       " '.',\n",
       " '발',\n",
       " '의',\n",
       " '자',\n",
       " ':',\n",
       " '정의화',\n",
       " '․',\n",
       " '이명수',\n",
       " '․',\n",
       " '김을동',\n",
       " '이']"
      ]
     },
     "execution_count": 28,
     "metadata": {},
     "output_type": "execute_result"
    }
   ],
   "source": [
    "okt.morphs(doc_ko[:100])"
   ]
  },
  {
   "cell_type": "code",
   "execution_count": 54,
   "metadata": {},
   "outputs": [
    {
     "data": {
      "image/png": "[encoded data removed]",
      "text/plain": [
       "<Figure size 432x288 with 1 Axes>"
      ]
     },
     "metadata": {
      "needs_background": "light"
     },
     "output_type": "display_data"
    }
   ],
   "source": [
    "import matplotlib.pyplot as plt\n",
    "import matplotlib.font_manager as fm\n",
    "import matplotlib\n",
    "font_path = 'C:/Windows/Fonts/NanumPen.ttf'\n",
    "fontprop = fm.FontProperties(fname=font_path).get_name()\n",
    "matplotlib.rc('font', family=fontprop)\n",
    "plt.ylabel('뭐냐')\n",
    "plt.xlabel('x축')\n",
    "\n",
    "# okt_nltk = nltk.Text(okt.nouns(doc_ko[:100]))\n",
    "# plt.plot(okt.morphs(doc_ko[:100]))\n",
    "plt.plot([1,2,3,4])\n",
    "plt.show()"
   ]
  },
  {
   "cell_type": "code",
   "execution_count": 31,
   "metadata": {},
   "outputs": [
    {
     "name": "stdout",
     "output_type": "stream",
     "text": [
      "버전: 3.1.2\n",
      "설치위치: c:\\users\\sungyun\\appdata\\local\\programs\\python\\python37\\lib\\site-packages\\matplotlib\\__init__.py\n",
      "설정위치: C:\\Users\\sungyun\\.matplotlib\n",
      "캐시위치: C:\\Users\\sungyun\\.matplotlib\n"
     ]
    }
   ],
   "source": [
    "import matplotlib\n",
    "print('버전:' , matplotlib.__version__)\n",
    "print('설치위치:', matplotlib.__file__)\n",
    "print('설정위치:', matplotlib.get_configdir())\n",
    "print('캐시위치:', matplotlib.get_cachedir())\n"
   ]
  },
  {
   "cell_type": "code",
   "execution_count": 55,
   "metadata": {},
   "outputs": [],
   "source": [
    "import nltk\n",
    "ko = nltk.Text(tokens_ko, name = '대한민국 국회 의안 제 1809890호')"
   ]
  },
  {
   "cell_type": "code",
   "execution_count": 11,
   "metadata": {},
   "outputs": [
    {
     "name": "stdout",
     "output_type": "stream",
     "text": [
      "1777\n"
     ]
    }
   ],
   "source": [
    "print(len(ko.tokens)) # document length"
   ]
  },
  {
   "cell_type": "code",
   "execution_count": 12,
   "metadata": {},
   "outputs": [
    {
     "name": "stdout",
     "output_type": "stream",
     "text": [
      "476\n"
     ]
    }
   ],
   "source": [
    "print(len(set(ko.tokens))) # unique tokens"
   ]
  },
  {
   "cell_type": "code",
   "execution_count": 16,
   "metadata": {},
   "outputs": [
    {
     "data": {
      "text/plain": [
       "6"
      ]
     },
     "execution_count": 16,
     "metadata": {},
     "output_type": "execute_result"
    }
   ],
   "source": [
    "ko.count('초등학교')  # counts occurrences"
   ]
  },
  {
   "cell_type": "code",
   "execution_count": 26,
   "metadata": {},
   "outputs": [
    {
     "name": "stdout",
     "output_type": "stream",
     "text": [
      "Displaying 6 of 6 matches:\n",
      "학송 의원 ( 10 인 ) \n",
      "\n",
      " 제안 이유 및 주요 내용 \n",
      "\n",
      "   초등학교 저학년 의 경우 에도 부모 의 따뜻한 사랑 과 보살핌이 필요 \n",
      "\n",
      "\n",
      " 을 할 수 있는 자녀 의 나이 는 만 6 세 이하 로 되어 있어 초등학교 저학년 인 자녀 를 돌보기 위 해서는 해당 부모님 은 일자리 를 \n",
      ". \n",
      "\n",
      " 제 63조 제 2 항제 4 호 중 “ 만 6 세 이하 의 초등학교 취학 전 자녀 를 ” 을 “ 만 8 세 이하 ( 취학 중인 경우 \n",
      " 전 자녀 를 ” 을 “ 만 8 세 이하 ( 취학 중인 경우 에는 초등학교 2 학년 이하 를 말 한다 ) 의 자녀 를 ” \n",
      "\n",
      " 로 한다 . \n",
      " 3 . ( 현행 과 같음 ) \n",
      "\n",
      "   4 . 만 6 세 이하 의 초등학교 취 \n",
      "\n",
      "   4 . 만 8 세 이하 ( 취학 중인 경우 \n",
      "\n",
      " 학 \n",
      "취학 중인 경우 \n",
      "\n",
      " 학 전 자녀 를 양육 하기 위 하 \n",
      "\n",
      " 에는 초등학교 2 학년 이하 를 여 필요하거나 여자 공무원 이 말 한다 ) 의 \n"
     ]
    }
   ],
   "source": [
    "ko.concordance('초등학교')"
   ]
  },
  {
   "cell_type": "code",
   "execution_count": 57,
   "metadata": {},
   "outputs": [
    {
     "data": {
      "text/plain": [
       "['아메리카', '아메리카노', '노']"
      ]
     },
     "execution_count": 57,
     "metadata": {},
     "output_type": "execute_result"
    }
   ],
   "source": [
    "kkma.nouns('아메리카노')"
   ]
  },
  {
   "cell_type": "code",
   "execution_count": 60,
   "metadata": {},
   "outputs": [
    {
     "data": {
      "text/plain": [
       "['아메리카노']"
      ]
     },
     "execution_count": 60,
     "metadata": {},
     "output_type": "execute_result"
    }
   ],
   "source": [
    "hannanum.nouns('아메리카노')"
   ]
  },
  {
   "cell_type": "code",
   "execution_count": 111,
   "metadata": {},
   "outputs": [],
   "source": [
    "x = okt.pos(doc_ko[:100])"
   ]
  },
  {
   "cell_type": "code",
   "execution_count": 100,
   "metadata": {},
   "outputs": [],
   "source": [
    "temp = []\n",
    "for i in range(len(x)):\n",
    "    if x[i][0] == '\\n\\n' or x[i][0] == '(' or x[i][0] == ')':\n",
    "        pass\n",
    "    else:\n",
    "        temp.append(x[i][0])"
   ]
  },
  {
   "cell_type": "code",
   "execution_count": 118,
   "metadata": {},
   "outputs": [],
   "source": [
    "for i , j in x:\n",
    "    if i == '\\n\\n':\n",
    "        pass\n",
    "    else:\n",
    "        temp.append(i)"
   ]
  },
  {
   "cell_type": "code",
   "execution_count": 119,
   "metadata": {},
   "outputs": [
    {
     "data": {
      "text/plain": [
       "['지방공무원법',\n",
       " '일부',\n",
       " '개정',\n",
       " '법률',\n",
       " '안',\n",
       " '정의화',\n",
       " '의원',\n",
       " '대표',\n",
       " '발의',\n",
       " '\\n\\n ',\n",
       " '의',\n",
       " '안',\n",
       " '\\n ',\n",
       " '번',\n",
       " '호',\n",
       " '지방공무원법',\n",
       " '일부',\n",
       " '개정',\n",
       " '법률',\n",
       " '안',\n",
       " '\\n\\n',\n",
       " '(',\n",
       " '정의화',\n",
       " '의원',\n",
       " '대표',\n",
       " '발의',\n",
       " ')',\n",
       " '\\n\\n ',\n",
       " '의',\n",
       " '안',\n",
       " '\\n ',\n",
       " '번',\n",
       " '호',\n",
       " '\\n\\n',\n",
       " '9890',\n",
       " '\\n\\n',\n",
       " '발의',\n",
       " '연월일',\n",
       " ':',\n",
       " '2010',\n",
       " '.',\n",
       " '11',\n",
       " '.',\n",
       " '12',\n",
       " '.',\n",
       " '발',\n",
       " '의',\n",
       " '자',\n",
       " ':',\n",
       " '정의화',\n",
       " '․',\n",
       " '이명수',\n",
       " '․',\n",
       " '김을동',\n",
       " '이',\n",
       " '지방공무원법',\n",
       " '일부',\n",
       " '개정',\n",
       " '법률',\n",
       " '안',\n",
       " '(',\n",
       " '정의화',\n",
       " '의원',\n",
       " '대표',\n",
       " '발의',\n",
       " ')',\n",
       " '\\n\\n ',\n",
       " '의',\n",
       " '안',\n",
       " '\\n ',\n",
       " '번',\n",
       " '호',\n",
       " '9890',\n",
       " '발의',\n",
       " '연월일',\n",
       " ':',\n",
       " '2010',\n",
       " '.',\n",
       " '11',\n",
       " '.',\n",
       " '12',\n",
       " '.',\n",
       " '발',\n",
       " '의',\n",
       " '자',\n",
       " ':',\n",
       " '정의화',\n",
       " '․',\n",
       " '이명수',\n",
       " '․',\n",
       " '김을동',\n",
       " '이']"
      ]
     },
     "execution_count": 119,
     "metadata": {},
     "output_type": "execute_result"
    }
   ],
   "source": [
    "temp"
   ]
  },
  {
   "cell_type": "code",
   "execution_count": null,
   "metadata": {},
   "outputs": [],
   "source": []
  }
 ],
 "metadata": {
  "kernelspec": {
   "display_name": "Python 3",
   "language": "python",
   "name": "python3"
  },
  "language_info": {
   "codemirror_mode": {
    "name": "ipython",
    "version": 3
   },
   "file_extension": ".py",
   "mimetype": "text/x-python",
   "name": "python",
   "nbconvert_exporter": "python",
   "pygments_lexer": "ipython3",
   "version": "3.7.5"
  }
 },
 "nbformat": 4,
 "nbformat_minor": 4
}
